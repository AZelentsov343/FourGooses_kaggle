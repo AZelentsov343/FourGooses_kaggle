{
 "cells": [
  {
   "cell_type": "code",
   "execution_count": 17,
   "metadata": {},
   "outputs": [],
   "source": [
    "import pandas as pd\n",
    "import numpy as np\n",
    "import re\n",
    "import pymorphy2 as pm\n",
    "from sklearn.neighbors import LocalOutlierFactor\n",
    "from sklearn.feature_extraction.text import CountVectorizer, TfidfTransformer, HashingVectorizer\n",
    "from multiprocessing import Pool, Lock, Value\n",
    "from sklearn.ensemble import IsolationForest\n",
    "from sklearn.metrics import f1_score\n",
    "from sklearn import svm"
   ]
  },
  {
   "cell_type": "code",
   "execution_count": 18,
   "metadata": {},
   "outputs": [],
   "source": [
    "docs_titles = pd.read_csv('anomaly-detection-competition-ml1-ts-fall-2019/docs_titles.tsv', sep='\\t', encoding='utf-8', lineterminator='\\n')"
   ]
  },
  {
   "cell_type": "code",
   "execution_count": 19,
   "metadata": {},
   "outputs": [
    {
     "name": "stdout",
     "output_type": "stream",
     "text": [
      "<class 'pandas.core.frame.DataFrame'>\n",
      "RangeIndex: 27950 entries, 0 to 27949\n",
      "Data columns (total 2 columns):\n",
      "doc_id    27950 non-null int64\n",
      "title     27919 non-null object\n",
      "dtypes: int64(1), object(1)\n",
      "memory usage: 436.8+ KB\n"
     ]
    }
   ],
   "source": [
    "docs_titles.info()"
   ]
  },
  {
   "cell_type": "code",
   "execution_count": 20,
   "metadata": {},
   "outputs": [],
   "source": [
    "ma = pm.MorphAnalyzer()"
   ]
  },
  {
   "cell_type": "markdown",
   "metadata": {},
   "source": [
    "Для начала заменим лишние символы на пробел, переведем в нижний регистр и нормализуем слова."
   ]
  },
  {
   "cell_type": "code",
   "execution_count": 21,
   "metadata": {},
   "outputs": [],
   "source": [
    "docs_titles['title'] = docs_titles['title'].astype(str)\n",
    "docs_titles['title'] = [text.lower() for text in docs_titles['title']]\n",
    "docs_titles['title'] = [re.sub('[^0-9a-zA-ZА-Яа-я]+', ' ', text) for text in docs_titles['title']]\n",
    "def norm(text):\n",
    "    res = ''\n",
    "    for word in text.split():\n",
    "        if word != '':\n",
    "            t = ma.parse(word)[0].normal_form\n",
    "            res = res + t\n",
    "            res = res + ' '\n",
    "    return res\n",
    "\n",
    "with Pool(10) as pool:\n",
    "    docs_titles['title'] = list(pool.map(norm, docs_titles['title']))"
   ]
  },
  {
   "cell_type": "code",
   "execution_count": 22,
   "metadata": {},
   "outputs": [],
   "source": [
    "test_groups = pd.read_csv('anomaly-detection-competition-ml1-ts-fall-2019/test_groups.csv')"
   ]
  },
  {
   "cell_type": "code",
   "execution_count": 23,
   "metadata": {},
   "outputs": [],
   "source": [
    "train_groups = pd.read_csv('anomaly-detection-competition-ml1-ts-fall-2019/train_groups.csv')"
   ]
  },
  {
   "cell_type": "markdown",
   "metadata": {},
   "source": [
    "Переведем заголовки в нужный нам формат, чтобы потом сделать из них матрицу - отдельную для каждой группы"
   ]
  },
  {
   "cell_type": "code",
   "execution_count": 24,
   "metadata": {},
   "outputs": [
    {
     "name": "stdout",
     "output_type": "stream",
     "text": [
      "CPU times: user 16.3 s, sys: 35.5 ms, total: 16.3 s\n",
      "Wall time: 16.4 s\n"
     ]
    },
    {
     "data": {
      "text/plain": [
       "['ваза 21213 замена подшипник ступица нива ',\n",
       " 'ваза 2107 оптом в сочи сравнить цена купить потребительский товар на tiu ru ',\n",
       " 'купить ступица лада калина2 трансмиссия переходный ступица цена замена тюнинг ',\n",
       " 'классика 21010 21074 ',\n",
       " 'ступица нива замена подшипник свой рука ',\n",
       " 'ваза 2110 ',\n",
       " 'обзор подшипник полуось ваза 2101 07 2121 2123 ',\n",
       " 'купить подшипник и ступица fag страница 23 ',\n",
       " 'horsepowers автомобильный интернет портал отзыв владелец ваза 2121 нива 2007 год ',\n",
       " 'новость и сообщение из официальный группа вконтакте торговый компания 33 sport магазин тольятти ',\n",
       " 'инструкция по замена подшипник передний ступица ивеко дейли через dorognoekam ru ',\n",
       " 'ступица olx ua страница 80 ',\n",
       " 'маааленький проблёмкий бортжурнал автокам 2160 1994 год на drive2 ',\n",
       " 'разгрузить полуось для нива 24 шлиц 765 мм ',\n",
       " 'прошивка для нива м7 9 7 скачать файлообменник emqraty6 foxkirov ru ',\n",
       " 'страница 6 раздел каталог подвеска ',\n",
       " 'продать нива 2121 ',\n",
       " 'рекомендация по проведение независимый экспертиза осаго ',\n",
       " 'втулка подшипник в омск сравнить цена и поставщик промышленный товар на tiu ru ',\n",
       " 'шеврол блейзер елабуга руководство по эксплуатация инструкция и совет ',\n",
       " 'привод шрусый пыльник шрусый страница 3 ',\n",
       " 'автомобиль маз в калининград интернет магазин и компания с стоимость в каталог купить автомобиль маз цена на сайт propartner ',\n",
       " 'ваза 2103 в украина сравнить цена купить потребительский товар на prom ua страница 86 ',\n",
       " 'купить подшипник цена до 1 000 рубль в киров магазин город страница 5 ',\n",
       " 'купить запчасть на ваза в воронеж доска объявление камелот ',\n",
       " 'опора передний амортизатор какой выбрать подвеска ',\n",
       " 'подшипник лада ваза в красноярск ',\n",
       " 'автозапчасть тендер торг закупка национальный тендерный портал tenderguru ru ',\n",
       " 'замена и регулировка передний ступичный подшипник нива нива ремонт ',\n",
       " 'разборка передний тормозной механизм ваза 21213 нива ',\n",
       " 'вс тот же коробка передача бортжурнал fiat albea алька 2008 год на drive2 ',\n",
       " 'продажа ваза нива 2121 2011 год в курган продать lada 4x4 нива в отличный технический состояние обмен на более дорогой на равноценный на более дешёвый 4wd ',\n",
       " 'ваза 2108 ',\n",
       " 'интернет магазин ооо автокомпас ',\n",
       " 'как заменить подшипник ступица передний колесо ваза 2121 ',\n",
       " 'развал ступица яплакалъ ',\n",
       " 'нужный помощь подвеска ',\n",
       " 'запчасть ваза газ заза москвич авто мото литература газ волга ',\n",
       " 'снятие и установка подшипник ступица нива 2121 нива 2131 ',\n",
       " 'ваза 2104 ',\n",
       " 'подшипник olimac drago dr7080 6307 2rs по цена 1 грн с доставка по полтавский область на zakupka com ',\n",
       " 'как снять ступица на ваза 2121 нива youtube ',\n",
       " 'замена подшипник ступица ваза 21213 21214 нива ',\n",
       " 'uaz patriot брать или не брать faq форум клуб patriot 4x4 ',\n",
       " 'каталог запчасть от интернет тв ',\n",
       " 'опрос помочь выбрать заза chance vortex estina б у kia spectra страница 10 форум wroom ru ',\n",
       " 'вал привод ваза 2121 нива в харьков сравнить цена купить потребительский товар на prom ua ',\n",
       " 'лада нива 2121 1997 в новокузнецк двигатель после кап ремонт 6000км 4wd коробка механический бензин ',\n",
       " 'jf stoll джи эф штоль ',\n",
       " 'сборка поворотный кулак с ступица на нива 2121 2123 автомобиль и автомобильный хозяйство автосервис чертёж в масштаб ру ',\n",
       " 'техношина подшипник в новокузнецк ',\n",
       " 'автозапчасть ваза олмить сервис ',\n",
       " 'ступица купить в винницкий область в интернет магазин низкий цена большой каталог быстрый доставка ступица фото отзыв ',\n",
       " 'купить лада 4x4 2121 нива 2010 в новый уренгой полный шумоизоляция электро котёл подножка усиленный прицепной устройство бензин бордовый пробег 76000 километр ',\n",
       " 'av autotechnik ',\n",
       " 'снятие задний ступичный подшипник ',\n",
       " 'весь изображение ступица ваза 2106 в сбор picsbase ru ',\n",
       " 'блог автомобильный клуб кулибинск клуб ',\n",
       " 'купить подшипник ступица газель next передний цена 3 061 35 р арт а21r23 3103145 интернет магазин новосибирск ',\n",
       " 'как смазать ступичный подшипник на нива шеврол видео avtoservis sobol ',\n",
       " 'средство для уход за автомобиль купить с скидка в кострома ',\n",
       " 'купить подшипник 180314 6314 2rs ct в полтава по цена 201 34 грн на zakupka com ',\n",
       " 'двигатель ',\n",
       " 'как поменять подшипник ступица нива шеврол видео ',\n",
       " 'подшипник маховик газ 3110 3302 дв 406 дв cummins с мета крышка 6203 кпк газ деталь машина пятигорск каталог автозапчасть газ ваза уаз lada деталь ',\n",
       " 'нива подшипник ступица 21213103020 купить в нижний новгород ',\n",
       " 'подшипник для автомобиль и спецтехник vbf купить в украина в интернет магазин низкий цена большой каталог быстрый доставка подшипник для автомобиль и спецтехник vbf фото отзыв ',\n",
       " 'ниваклуб новосибирск просмотр тема подготовка машина к зима ',\n",
       " 'нива 2121 в тольятти сравнить цена купить потребительский товар на tiu ru страница 13 ',\n",
       " 'задний ступица n16 2000г в nissan almera ii n16 mdash nissan almera клуб нисан альмер ',\n",
       " 'чертёж ',\n",
       " 'ремонт ваза 2131 свой рука ремонт ваза свой рука remontysvoimirukami ru ',\n",
       " 'глухой периодичный стук справа ',\n",
       " 'ваза 2121 страница 5 форум клуб ваза 2104 ',\n",
       " 'ступица в нижний тагил сравнить цена купить потребительский товар на tiu ru страница 4 ',\n",
       " 'замена воздушный фильтр на ваза 2108 2109 21099 видео ремонт авто свой рука видео и руководство по ремонт ',\n",
       " 'колпачок ступица ваза 2110 2170 от компания z24 купить в санкт петербург ',\n",
       " 'подшипник ступица ваза 2101 kraft от компания z24 купить в санкт петербург ',\n",
       " 'подшипник mannol ',\n",
       " 'как заменить передний ступичный подшипник на нива шеврол нива ',\n",
       " 'купить мкппа ваза лада в сочи сравнить цена на мкппа ваза лада в сочи на портал blizko ',\n",
       " 'renault symbol ваш мнение форум wroom ru ',\n",
       " 'простой разборка ступица нива ремонт ',\n",
       " 'потребительский товар ваза 2106 в беларусь сравнить цена купить потребительский товар на deal by ',\n",
       " 'замена подшипник передний ступица нива 21213 ',\n",
       " 'www pajero4x4 ru просмотр тема безрезультатный сход развал ',\n",
       " 'колхоз давать делиться кто от что колхозил на p10 nissan primera p10 вконтакте ',\n",
       " 'страница 103 автокомпектовать и запчасть прочее ',\n",
       " 'подшипник полуось в украина сравнить цена купить потребительский товар на prom ua страница 3 ',\n",
       " 'купить lada ваза 2121 4x4 с пробег в омск 2001 год цена 130 000 рубль авто ру ',\n",
       " 'промышленный и оптовый товар крестовина в омск сравнить цена и поставщик промышленный товар на tiu ru ',\n",
       " 'ваза 2111 ',\n",
       " 'техношина автозапчасть на отечественный автомобиль ',\n",
       " 'колесо зубчатый раздаточный коробка ваза 2121 чертёж 74 список деталь стоимость запчасть ',\n",
       " 'подшипник 6306 youtube ',\n",
       " 'innovate 3740 сетевой адаптер в прикуриватель lm 1 интернет магазин shop tuning ru ',\n",
       " 'объявление дзержинск рф главный портал город дзержинск нижегородский область ',\n",
       " 'замена ремень и цепь грм на автомобиль смотреть на видео на zamenagrm ru ',\n",
       " 'ваза 2121 замена подшипник ступица ',\n",
       " 'малолитражка с характер вездеход моделист конструктор ',\n",
       " 'ваза 2112 ремонт свой рука передний мост ремонт ваза свой рука remontysvoimirukami ru ',\n",
       " 'пежо 308 замена датчик давление масло ']"
      ]
     },
     "execution_count": 24,
     "metadata": {},
     "output_type": "execute_result"
    }
   ],
   "source": [
    "%%time\n",
    "groups_train = []\n",
    "target_groups = []\n",
    "for group_id in range(1, 130):\n",
    "    part = train_groups[train_groups.group_id == group_id]\n",
    "    arr = []\n",
    "    arr_t = []\n",
    "    for doc_id in part['doc_id']:\n",
    "        arr.append(docs_titles[docs_titles.doc_id == doc_id].iloc[0]['title'])\n",
    "        arr_t.append(part[part.doc_id == doc_id].iloc[0]['target'])\n",
    "    groups_train.append(arr)\n",
    "    target_groups.append(arr_t)\n",
    "groups_train[0]"
   ]
  },
  {
   "cell_type": "code",
   "execution_count": 25,
   "metadata": {},
   "outputs": [
    {
     "name": "stdout",
     "output_type": "stream",
     "text": [
      "CPU times: user 21.9 s, sys: 24.3 ms, total: 21.9 s\n",
      "Wall time: 21.9 s\n"
     ]
    },
    {
     "data": {
      "text/plain": [
       "['как прописать админк в кс 1 6 себя или друг youtube ',\n",
       " 'скачать sgl rp доработка слив мода mysql rp role play готовый сервер для samp 0 3 7 0 3z 0 3x 0 3e v sampe ru вс для samp и gta ',\n",
       " 'как прописать админк в кс 1 6 counter strike каталог стать игровой сообщество dream x ru counter strike портал ',\n",
       " 'как прописать простой админк в кс 1 6 ',\n",
       " 'подбор админовый для сервер по код 4 архив форум ozone ',\n",
       " 'каталог стать the best original portal in ukraine the best original portal in ukrain ',\n",
       " 'eugene kirian блог ',\n",
       " 'файл htaccess основной параметр увеличивать безопасность блог ',\n",
       " 'как дать себя админк в cs 1 6 на хостинг my arena ответ на игра вокруг свет и к другой игра ',\n",
       " 'joomla 2 5 убирать хлебный крошка с выбрать страница ',\n",
       " 'sa mp беседка архив страница 3 форум ozone ',\n",
       " 'чужой wifi форум на исходник ру ',\n",
       " 'спасибо за комментарий с плагин и без он ',\n",
       " 'cs amxmodmenu как прописать админк ',\n",
       " 'пароль на admin hack 3 7 в c s 1 6 ',\n",
       " 'как пользоваться сервер в кс видео ',\n",
       " 'как сделать свой сервер в кс 1 6 админк паутинка граб драка видео ',\n",
       " 'ответ mail ru вот создать свой сервак в кс 1 6 прописать ся админ но как комп перезагрузить ip адрес поменяться что можно сделата ',\n",
       " 'проблема в настройка админк hlds сервер cs 1 6 hlds сервер cs 1 6 форум cs hlds ru ',\n",
       " 'квантиум страница 4 guild black templars ',\n",
       " 'установка kerio control 8 2 3 на отдельный машина форум kerio rus ',\n",
       " 'как прописать кредит на рпг серов ксс ',\n",
       " 'вакансия координатор проект главный программист ',\n",
       " 'bmw m5 для gta san andreas с качественный детализация gta san andreas bmw m5 f10 gold скачать bmw x5m gold для gta san andreas скачать паинт на bmw для gta san andreas скачать гта 5 пиратка на пк r g mechanics гта 5 скачать на пк пиратка альфа rutor скачать гта 5 пиратка на пк как и где скачать гта 5 на пк пиратка 100 прохождение gta san andreas sunny mod gta san andreas sunny mod управление gta san andreas best mod прохождение посмотреть видео gta san andreas sunny mod 2010 скачать чита на гта возвращение в лос сантос чита на гта возвращение в лос сантос бесконечный патрон скачать сэйв для гта са возвращение в лос сантос ',\n",
       " 'хотеть новый пб без королевство кривая зеркало архив страница 2 civ club ',\n",
       " 'лк html5 личный кабинет аср mikbill ',\n",
       " 'сервер не отвечать помощь по amxbans csbans ru ',\n",
       " 'компьютер интернет запись в рубрика компьютер интернет дневник svetlana i 0902 liveinternet российский сервис онлайн дневник ',\n",
       " 'как прописать килла в cs go cs go рулетка от 5 рубль ',\n",
       " 'как как создать свой сервер в css v34 вс просто youtube ',\n",
       " 'хороший скрипт для сервер гта сампа ',\n",
       " 'функция для создание контекстный меню разный javascript форум dklab и denwer ',\n",
       " 'maikil ru блог maikil бесплатный скрипт для заработок в интернет страница 5 ',\n",
       " 'мир психология психологический чат ',\n",
       " 'wordpress установка плагин как установить плагин на вордпресс вручную ',\n",
       " 'thl t100s неофициальный прошивка 4pda ',\n",
       " 'сообщество steam руководство как открыть порт для killing floor ',\n",
       " 'изготовление сайт услуга gusev online ru форум ',\n",
       " 'без оффтоп технический поддержка uzonline архив страница 51 uforum uz ',\n",
       " 'какой купить роутереть ева ру женский интернет цифровой мир и программный обеспечение ',\n",
       " 'как дать себя админк на свой сервер майнкрафт ответ к 100к1 и другой игра ',\n",
       " 'как дать админк в сампа как прописать админк в сампа ',\n",
       " 'как давать админк в gta samp rp ru ',\n",
       " 'как прописать админк на хостинг csserv ru zebroid tv ',\n",
       " 'готовый сервер для css v34 соскина админовый backupertemplates ',\n",
       " 'консольный команда minecraft не работать ',\n",
       " 'как улучшить wifi симферопольский форум ',\n",
       " 'бесплатный ssl сертификат letsencrypt man sovet ru ',\n",
       " 'краткий обзор нововведение в laravel 5 4 ',\n",
       " 'как дать админк 4 уровень в гта сампа ',\n",
       " 'скачать cfg который взломать сервер ',\n",
       " 'как прописать админк прописывать админк как стать админ свой сервер мой статья каталог стать весь самый хороший для cs 1 6 ',\n",
       " 'админ летать minecraft ',\n",
       " 'как вводить свой пароль от админк в кс 1 6 активировать ответ на игра вокруг свет и к другой игра ',\n",
       " 'команда админовый гта сампа ',\n",
       " 'blog archives dialbittorrent ',\n",
       " 'как прописать главный админк в ксс 34 на хостинг myarena как установить главный админк в css v34 через myarena видео как прописать в ксс в 34 гл админк как прописать админк в ксс 34 социальный проблема общество ',\n",
       " 'правдоруба выпуск 01 07 2012 правдоруба ',\n",
       " 'как прописать админк в cs 1 6 на сво метр сервер ',\n",
       " 'как прописать админк в кс 1 6 ',\n",
       " 'скачать готовый сервер с паутинка и граб ',\n",
       " 'как защитить сервер css от взлом 16 март 2013 drees team play with pro ',\n",
       " 'проброс порт для доступ к камера через роутереть неофициальный форум технический поддержка hikvision ',\n",
       " 'боевой плагин для wordpress блоггинга инвестинг трейдинг ',\n",
       " 'нужный помощь modx evolution revolution вконтакте ',\n",
       " 'jayme g disbjayme твиттереть ',\n",
       " 'настройка dle для работа с бд использовать utf 8 datalife engine dle cyberforum ru ',\n",
       " 'как создать или купить сервер кс 1 6 с админка www fassen net видео с рфинга ',\n",
       " 'как через консоль прописать бан игрок в кс 1 6 ',\n",
       " 'форматирование текст в блог делать статья читабельный блогопрактик ',\n",
       " 'apache nginx phpmyadmin станок с чпу на форум cnc club ru ',\n",
       " '15 самый раздражать вещий в wordpress и как они исправить бизнес блог макс метелевый ',\n",
       " 'как летать с админка в rust ',\n",
       " 'как настроить админк по ник и пароль myarena ru css v34 www fassen net видео с рфинга ',\n",
       " 'super commands v 0 6 забавный команда ксс hp ',\n",
       " 'как прописать админк в кс 1 6 инструкция ',\n",
       " 'сайт в интернет centr lan ухта и сосногорск ',\n",
       " 'немного о безопасность cs сервер скачать файл для cs 1 6 ',\n",
       " 'f a q ошибка бд database error ',\n",
       " 'как дать креатив в майнкрафт ',\n",
       " 'оптимизация wordpress сайт seo плагин и чпу ',\n",
       " 'что прописать чтобы админ не кикать за чита rust ',\n",
       " 'вс для cs вс для cs и ваш сервер ',\n",
       " 'техподдержка чат voc страница 38 форум hostlite ',\n",
       " 'заработок на биржа вечный ссылка rotapost ru ',\n",
       " 'как устанавливать скрипт форум samp о мультиплеер для gta ',\n",
       " 'ivms 5200 страница 6 неофициальный форум технический поддержка hikvision ',\n",
       " 'защита wordpress при помощь файл htaccess ',\n",
       " 'сервис короткий ссылка на php форум web мастер и компьютерщик ',\n",
       " 'как создать сервер кс 1 6 админк фан сайт ивангай иван рудский eeoneguy youtube магазин ивангай ',\n",
       " 'администратор иркутский сервер cs 1 6 власть народ ',\n",
       " 'не мочь зайти в админк роутер страница 2 компьютерный помощь форум фан клуб лаборатория касперский ',\n",
       " 'играть в кс 1 6 на jail 1 youtube ',\n",
       " 'я забанить на сервер майнкрафт mine dest перед это я купить себя админк остаться ли привилечь вопрос о minecraft 4cheat ',\n",
       " 'как правильно забиндовать amxmodmenu youtube ',\n",
       " 'как прописать админк с бот cs 1 6 25 09 2014 youtube ',\n",
       " 'менять адрес сайт web gavzav name https https web gavzav name блог гавриила заславский про web ',\n",
       " 'сентябрь 2013 руководство drupalbook ru ']"
      ]
     },
     "execution_count": 25,
     "metadata": {},
     "output_type": "execute_result"
    }
   ],
   "source": [
    "%%time\n",
    "groups_test = []\n",
    "for group_id in range(130, 310):\n",
    "    part = test_groups[test_groups.group_id == group_id]\n",
    "    arr = []\n",
    "    for doc_id in part['doc_id']:\n",
    "        if len(docs_titles[docs_titles.doc_id == doc_id]) == 0:\n",
    "            arr.append('')\n",
    "        else:\n",
    "            arr.append(docs_titles[docs_titles.doc_id == doc_id].iloc[0]['title'])\n",
    "    groups_test.append(arr)\n",
    "groups_test[0]"
   ]
  },
  {
   "cell_type": "markdown",
   "metadata": {},
   "source": [
    "Переведём в матрицу и сразу применим tf-idf"
   ]
  },
  {
   "cell_type": "code",
   "execution_count": 26,
   "metadata": {},
   "outputs": [],
   "source": [
    "cv = CountVectorizer(min_df=2, max_df=0.8)\n",
    "tf = TfidfTransformer()\n",
    "matrix_train = []\n",
    "for group in groups_train:\n",
    "    m = cv.fit_transform(group).toarray()\n",
    "    matrix_train.append(tf.fit_transform(m).toarray())"
   ]
  },
  {
   "cell_type": "code",
   "execution_count": 27,
   "metadata": {},
   "outputs": [],
   "source": [
    "matrix_test = []\n",
    "for group in groups_test:\n",
    "    m = cv.fit_transform(group).toarray()\n",
    "    matrix_test.append(tf.fit_transform(m).toarray())"
   ]
  },
  {
   "cell_type": "code",
   "execution_count": 28,
   "metadata": {},
   "outputs": [
    {
     "data": {
      "text/plain": [
       "(array([0, 1]), array([8329, 3361]))"
      ]
     },
     "execution_count": 28,
     "metadata": {},
     "output_type": "execute_result"
    }
   ],
   "source": [
    "magic_forest = IsolationForest(n_estimators=300, behaviour='new', contamination='auto')\n",
    "all_targ = np.array(train_groups['target'])\n",
    "n, c = np.unique(all_targ, return_counts=True)\n",
    "n, c"
   ]
  },
  {
   "cell_type": "markdown",
   "metadata": {},
   "source": [
    "Подобный подбор параметров для Isolation forest я решил убрать, так как score получался в лучшем случае 0.3"
   ]
  },
  {
   "cell_type": "code",
   "execution_count": 29,
   "metadata": {},
   "outputs": [
    {
     "name": "stdout",
     "output_type": "stream",
     "text": [
      "DONE FOR KERNEL = rbf DEGREE = 1 NU = 0.3, SCORE = 0.4117306579201234\n",
      "DONE FOR KERNEL = rbf DEGREE = 1 NU = 0.4, SCORE = 0.4025044722719141\n",
      "DONE FOR KERNEL = rbf DEGREE = 1 NU = 0.5, SCORE = 0.3947564744751146\n",
      "DONE FOR KERNEL = rbf DEGREE = 1 NU = 0.6, SCORE = 0.3715834118755891\n",
      "DONE FOR KERNEL = rbf DEGREE = 1 NU = 0.7, SCORE = 0.34838709677419355\n",
      "DONE FOR KERNEL = rbf DEGREE = 2 NU = 0.3, SCORE = 0.4117306579201234\n",
      "DONE FOR KERNEL = rbf DEGREE = 2 NU = 0.4, SCORE = 0.4025044722719141\n",
      "DONE FOR KERNEL = rbf DEGREE = 2 NU = 0.5, SCORE = 0.3947564744751146\n",
      "DONE FOR KERNEL = rbf DEGREE = 2 NU = 0.6, SCORE = 0.3715834118755891\n",
      "DONE FOR KERNEL = rbf DEGREE = 2 NU = 0.7, SCORE = 0.34838709677419355\n",
      "DONE FOR KERNEL = rbf DEGREE = 3 NU = 0.3, SCORE = 0.4117306579201234\n",
      "DONE FOR KERNEL = rbf DEGREE = 3 NU = 0.4, SCORE = 0.4025044722719141\n",
      "DONE FOR KERNEL = rbf DEGREE = 3 NU = 0.5, SCORE = 0.3947564744751146\n",
      "DONE FOR KERNEL = rbf DEGREE = 3 NU = 0.6, SCORE = 0.3715834118755891\n",
      "DONE FOR KERNEL = rbf DEGREE = 3 NU = 0.7, SCORE = 0.34838709677419355\n",
      "DONE FOR KERNEL = rbf DEGREE = 4 NU = 0.3, SCORE = 0.4117306579201234\n",
      "DONE FOR KERNEL = rbf DEGREE = 4 NU = 0.4, SCORE = 0.4025044722719141\n",
      "DONE FOR KERNEL = rbf DEGREE = 4 NU = 0.5, SCORE = 0.3947564744751146\n",
      "DONE FOR KERNEL = rbf DEGREE = 4 NU = 0.6, SCORE = 0.3715834118755891\n",
      "DONE FOR KERNEL = rbf DEGREE = 4 NU = 0.7, SCORE = 0.34838709677419355\n",
      "DONE FOR KERNEL = rbf DEGREE = 5 NU = 0.3, SCORE = 0.4117306579201234\n",
      "DONE FOR KERNEL = rbf DEGREE = 5 NU = 0.4, SCORE = 0.4025044722719141\n",
      "DONE FOR KERNEL = rbf DEGREE = 5 NU = 0.5, SCORE = 0.3947564744751146\n",
      "DONE FOR KERNEL = rbf DEGREE = 5 NU = 0.6, SCORE = 0.3715834118755891\n",
      "DONE FOR KERNEL = rbf DEGREE = 5 NU = 0.7, SCORE = 0.34838709677419355\n",
      "DONE FOR KERNEL = rbf DEGREE = 6 NU = 0.3, SCORE = 0.4117306579201234\n",
      "DONE FOR KERNEL = rbf DEGREE = 6 NU = 0.4, SCORE = 0.4025044722719141\n",
      "DONE FOR KERNEL = rbf DEGREE = 6 NU = 0.5, SCORE = 0.3947564744751146\n",
      "DONE FOR KERNEL = rbf DEGREE = 6 NU = 0.6, SCORE = 0.3715834118755891\n",
      "DONE FOR KERNEL = rbf DEGREE = 6 NU = 0.7, SCORE = 0.34838709677419355\n",
      "DONE FOR KERNEL = rbf DEGREE = 7 NU = 0.3, SCORE = 0.4117306579201234\n",
      "DONE FOR KERNEL = rbf DEGREE = 7 NU = 0.4, SCORE = 0.4025044722719141\n",
      "DONE FOR KERNEL = rbf DEGREE = 7 NU = 0.5, SCORE = 0.3947564744751146\n",
      "DONE FOR KERNEL = rbf DEGREE = 7 NU = 0.6, SCORE = 0.3715834118755891\n",
      "DONE FOR KERNEL = rbf DEGREE = 7 NU = 0.7, SCORE = 0.34838709677419355\n",
      "DONE FOR KERNEL = rbf DEGREE = 8 NU = 0.3, SCORE = 0.4117306579201234\n",
      "DONE FOR KERNEL = rbf DEGREE = 8 NU = 0.4, SCORE = 0.4025044722719141\n",
      "DONE FOR KERNEL = rbf DEGREE = 8 NU = 0.5, SCORE = 0.3947564744751146\n",
      "DONE FOR KERNEL = rbf DEGREE = 8 NU = 0.6, SCORE = 0.3715834118755891\n",
      "DONE FOR KERNEL = rbf DEGREE = 8 NU = 0.7, SCORE = 0.34838709677419355\n",
      "DONE FOR KERNEL = rbf DEGREE = 9 NU = 0.3, SCORE = 0.4117306579201234\n",
      "DONE FOR KERNEL = rbf DEGREE = 9 NU = 0.4, SCORE = 0.4025044722719141\n",
      "DONE FOR KERNEL = rbf DEGREE = 9 NU = 0.5, SCORE = 0.3947564744751146\n",
      "DONE FOR KERNEL = rbf DEGREE = 9 NU = 0.6, SCORE = 0.3715834118755891\n",
      "DONE FOR KERNEL = rbf DEGREE = 9 NU = 0.7, SCORE = 0.34838709677419355\n",
      "DONE FOR KERNEL = poly DEGREE = 1 NU = 0.3, SCORE = 0.46251935513252573\n",
      "DONE FOR KERNEL = poly DEGREE = 1 NU = 0.4, SCORE = 0.4477728068469169\n",
      "DONE FOR KERNEL = poly DEGREE = 1 NU = 0.5, SCORE = 0.43463165889117933\n",
      "DONE FOR KERNEL = poly DEGREE = 1 NU = 0.6, SCORE = 0.4203130777764082\n",
      "DONE FOR KERNEL = poly DEGREE = 1 NU = 0.7, SCORE = 0.3971367215461704\n",
      "DONE FOR KERNEL = poly DEGREE = 2 NU = 0.3, SCORE = 0.43606970396808736\n",
      "DONE FOR KERNEL = poly DEGREE = 2 NU = 0.4, SCORE = 0.4301830566198382\n",
      "DONE FOR KERNEL = poly DEGREE = 2 NU = 0.5, SCORE = 0.41379310344827586\n",
      "DONE FOR KERNEL = poly DEGREE = 2 NU = 0.6, SCORE = 0.3899179366940211\n",
      "DONE FOR KERNEL = poly DEGREE = 2 NU = 0.7, SCORE = 0.35347837765243084\n",
      "DONE FOR KERNEL = poly DEGREE = 3 NU = 0.3, SCORE = 0.41123742894621773\n",
      "DONE FOR KERNEL = poly DEGREE = 3 NU = 0.4, SCORE = 0.41686027215399934\n",
      "DONE FOR KERNEL = poly DEGREE = 3 NU = 0.5, SCORE = 0.40495959260489317\n",
      "DONE FOR KERNEL = poly DEGREE = 3 NU = 0.6, SCORE = 0.38528336380255945\n",
      "DONE FOR KERNEL = poly DEGREE = 3 NU = 0.7, SCORE = 0.33329236819466634\n",
      "DONE FOR KERNEL = poly DEGREE = 4 NU = 0.3, SCORE = 0.3937950138504156\n",
      "DONE FOR KERNEL = poly DEGREE = 4 NU = 0.4, SCORE = 0.39213954515345545\n",
      "DONE FOR KERNEL = poly DEGREE = 4 NU = 0.5, SCORE = 0.3929625177576221\n",
      "DONE FOR KERNEL = poly DEGREE = 4 NU = 0.6, SCORE = 0.3824061510628675\n",
      "DONE FOR KERNEL = poly DEGREE = 4 NU = 0.7, SCORE = 0.32905429278059123\n",
      "DONE FOR KERNEL = poly DEGREE = 5 NU = 0.3, SCORE = 0.3928531295651197\n",
      "DONE FOR KERNEL = poly DEGREE = 5 NU = 0.4, SCORE = 0.39171974522292996\n",
      "DONE FOR KERNEL = poly DEGREE = 5 NU = 0.5, SCORE = 0.3889627659574468\n",
      "DONE FOR KERNEL = poly DEGREE = 5 NU = 0.6, SCORE = 0.3926366595577506\n",
      "DONE FOR KERNEL = poly DEGREE = 5 NU = 0.7, SCORE = 0.33001289112855975\n",
      "DONE FOR KERNEL = poly DEGREE = 6 NU = 0.3, SCORE = 0.3805713015449594\n",
      "DONE FOR KERNEL = poly DEGREE = 6 NU = 0.4, SCORE = 0.37030289227966295\n",
      "DONE FOR KERNEL = poly DEGREE = 6 NU = 0.5, SCORE = 0.37958999774724034\n",
      "DONE FOR KERNEL = poly DEGREE = 6 NU = 0.6, SCORE = 0.38591359135913594\n",
      "DONE FOR KERNEL = poly DEGREE = 6 NU = 0.7, SCORE = 0.35179003108092555\n",
      "DONE FOR KERNEL = poly DEGREE = 7 NU = 0.3, SCORE = 0.3724986025712688\n",
      "DONE FOR KERNEL = poly DEGREE = 7 NU = 0.4, SCORE = 0.3861318830727396\n",
      "DONE FOR KERNEL = poly DEGREE = 7 NU = 0.5, SCORE = 0.3817455790074159\n",
      "DONE FOR KERNEL = poly DEGREE = 7 NU = 0.6, SCORE = 0.3651238372744593\n",
      "DONE FOR KERNEL = poly DEGREE = 7 NU = 0.7, SCORE = 0.3545744196631771\n",
      "DONE FOR KERNEL = poly DEGREE = 8 NU = 0.3, SCORE = 0.3790523690773067\n",
      "DONE FOR KERNEL = poly DEGREE = 8 NU = 0.4, SCORE = 0.3708428246013668\n",
      "DONE FOR KERNEL = poly DEGREE = 8 NU = 0.5, SCORE = 0.38417692658458724\n",
      "DONE FOR KERNEL = poly DEGREE = 8 NU = 0.6, SCORE = 0.3769187675070028\n",
      "DONE FOR KERNEL = poly DEGREE = 8 NU = 0.7, SCORE = 0.3570935847321223\n",
      "DONE FOR KERNEL = poly DEGREE = 9 NU = 0.3, SCORE = 0.38058074142086534\n",
      "DONE FOR KERNEL = poly DEGREE = 9 NU = 0.4, SCORE = 0.3818534138835062\n",
      "DONE FOR KERNEL = poly DEGREE = 9 NU = 0.5, SCORE = 0.38114800867282894\n",
      "DONE FOR KERNEL = poly DEGREE = 9 NU = 0.6, SCORE = 0.37702302256667425\n",
      "DONE FOR KERNEL = poly DEGREE = 9 NU = 0.7, SCORE = 0.3690381331815595\n",
      "DONE FOR KERNEL = linear DEGREE = 1 NU = 0.3, SCORE = 0.4644619038918327\n",
      "DONE FOR KERNEL = linear DEGREE = 1 NU = 0.4, SCORE = 0.44494163424124517\n",
      "DONE FOR KERNEL = linear DEGREE = 1 NU = 0.5, SCORE = 0.4393151278716949\n",
      "DONE FOR KERNEL = linear DEGREE = 1 NU = 0.6, SCORE = 0.42106570612346295\n",
      "DONE FOR KERNEL = linear DEGREE = 1 NU = 0.7, SCORE = 0.3927648578811369\n",
      "DONE FOR KERNEL = linear DEGREE = 2 NU = 0.3, SCORE = 0.4644619038918327\n",
      "DONE FOR KERNEL = linear DEGREE = 2 NU = 0.4, SCORE = 0.44494163424124517\n",
      "DONE FOR KERNEL = linear DEGREE = 2 NU = 0.5, SCORE = 0.4393151278716949\n",
      "DONE FOR KERNEL = linear DEGREE = 2 NU = 0.6, SCORE = 0.42106570612346295\n",
      "DONE FOR KERNEL = linear DEGREE = 2 NU = 0.7, SCORE = 0.3927648578811369\n",
      "DONE FOR KERNEL = linear DEGREE = 3 NU = 0.3, SCORE = 0.4644619038918327\n",
      "DONE FOR KERNEL = linear DEGREE = 3 NU = 0.4, SCORE = 0.44494163424124517\n",
      "DONE FOR KERNEL = linear DEGREE = 3 NU = 0.5, SCORE = 0.4393151278716949\n",
      "DONE FOR KERNEL = linear DEGREE = 3 NU = 0.6, SCORE = 0.42106570612346295\n",
      "DONE FOR KERNEL = linear DEGREE = 3 NU = 0.7, SCORE = 0.3927648578811369\n",
      "DONE FOR KERNEL = linear DEGREE = 4 NU = 0.3, SCORE = 0.4644619038918327\n",
      "DONE FOR KERNEL = linear DEGREE = 4 NU = 0.4, SCORE = 0.44494163424124517\n",
      "DONE FOR KERNEL = linear DEGREE = 4 NU = 0.5, SCORE = 0.4393151278716949\n",
      "DONE FOR KERNEL = linear DEGREE = 4 NU = 0.6, SCORE = 0.42106570612346295\n",
      "DONE FOR KERNEL = linear DEGREE = 4 NU = 0.7, SCORE = 0.3927648578811369\n",
      "DONE FOR KERNEL = linear DEGREE = 5 NU = 0.3, SCORE = 0.4644619038918327\n",
      "DONE FOR KERNEL = linear DEGREE = 5 NU = 0.4, SCORE = 0.44494163424124517\n",
      "DONE FOR KERNEL = linear DEGREE = 5 NU = 0.5, SCORE = 0.4393151278716949\n",
      "DONE FOR KERNEL = linear DEGREE = 5 NU = 0.6, SCORE = 0.42106570612346295\n",
      "DONE FOR KERNEL = linear DEGREE = 5 NU = 0.7, SCORE = 0.3927648578811369\n"
     ]
    },
    {
     "name": "stdout",
     "output_type": "stream",
     "text": [
      "DONE FOR KERNEL = linear DEGREE = 6 NU = 0.3, SCORE = 0.4644619038918327\n",
      "DONE FOR KERNEL = linear DEGREE = 6 NU = 0.4, SCORE = 0.44494163424124517\n",
      "DONE FOR KERNEL = linear DEGREE = 6 NU = 0.5, SCORE = 0.4393151278716949\n",
      "DONE FOR KERNEL = linear DEGREE = 6 NU = 0.6, SCORE = 0.42106570612346295\n",
      "DONE FOR KERNEL = linear DEGREE = 6 NU = 0.7, SCORE = 0.3927648578811369\n",
      "DONE FOR KERNEL = linear DEGREE = 7 NU = 0.3, SCORE = 0.4644619038918327\n",
      "DONE FOR KERNEL = linear DEGREE = 7 NU = 0.4, SCORE = 0.44494163424124517\n",
      "DONE FOR KERNEL = linear DEGREE = 7 NU = 0.5, SCORE = 0.4393151278716949\n",
      "DONE FOR KERNEL = linear DEGREE = 7 NU = 0.6, SCORE = 0.42106570612346295\n",
      "DONE FOR KERNEL = linear DEGREE = 7 NU = 0.7, SCORE = 0.3927648578811369\n",
      "DONE FOR KERNEL = linear DEGREE = 8 NU = 0.3, SCORE = 0.4644619038918327\n",
      "DONE FOR KERNEL = linear DEGREE = 8 NU = 0.4, SCORE = 0.44494163424124517\n",
      "DONE FOR KERNEL = linear DEGREE = 8 NU = 0.5, SCORE = 0.4393151278716949\n",
      "DONE FOR KERNEL = linear DEGREE = 8 NU = 0.6, SCORE = 0.42106570612346295\n",
      "DONE FOR KERNEL = linear DEGREE = 8 NU = 0.7, SCORE = 0.3927648578811369\n",
      "DONE FOR KERNEL = linear DEGREE = 9 NU = 0.3, SCORE = 0.4644619038918327\n",
      "DONE FOR KERNEL = linear DEGREE = 9 NU = 0.4, SCORE = 0.44494163424124517\n",
      "DONE FOR KERNEL = linear DEGREE = 9 NU = 0.5, SCORE = 0.4393151278716949\n",
      "DONE FOR KERNEL = linear DEGREE = 9 NU = 0.6, SCORE = 0.42106570612346295\n",
      "DONE FOR KERNEL = linear DEGREE = 9 NU = 0.7, SCORE = 0.3927648578811369\n",
      "DONE FOR KERNEL = sigmoid DEGREE = 1 NU = 0.3, SCORE = 0.45557122708039494\n",
      "DONE FOR KERNEL = sigmoid DEGREE = 1 NU = 0.4, SCORE = 0.44725818735719725\n",
      "DONE FOR KERNEL = sigmoid DEGREE = 1 NU = 0.5, SCORE = 0.4412619791105847\n",
      "DONE FOR KERNEL = sigmoid DEGREE = 1 NU = 0.6, SCORE = 0.4302138706885894\n",
      "DONE FOR KERNEL = sigmoid DEGREE = 1 NU = 0.7, SCORE = 0.3934426229508196\n",
      "DONE FOR KERNEL = sigmoid DEGREE = 2 NU = 0.3, SCORE = 0.45557122708039494\n",
      "DONE FOR KERNEL = sigmoid DEGREE = 2 NU = 0.4, SCORE = 0.44725818735719725\n",
      "DONE FOR KERNEL = sigmoid DEGREE = 2 NU = 0.5, SCORE = 0.4412619791105847\n",
      "DONE FOR KERNEL = sigmoid DEGREE = 2 NU = 0.6, SCORE = 0.4302138706885894\n",
      "DONE FOR KERNEL = sigmoid DEGREE = 2 NU = 0.7, SCORE = 0.3934426229508196\n",
      "DONE FOR KERNEL = sigmoid DEGREE = 3 NU = 0.3, SCORE = 0.45557122708039494\n",
      "DONE FOR KERNEL = sigmoid DEGREE = 3 NU = 0.4, SCORE = 0.44725818735719725\n",
      "DONE FOR KERNEL = sigmoid DEGREE = 3 NU = 0.5, SCORE = 0.4412619791105847\n",
      "DONE FOR KERNEL = sigmoid DEGREE = 3 NU = 0.6, SCORE = 0.4302138706885894\n",
      "DONE FOR KERNEL = sigmoid DEGREE = 3 NU = 0.7, SCORE = 0.3934426229508196\n",
      "DONE FOR KERNEL = sigmoid DEGREE = 4 NU = 0.3, SCORE = 0.45557122708039494\n",
      "DONE FOR KERNEL = sigmoid DEGREE = 4 NU = 0.4, SCORE = 0.44725818735719725\n",
      "DONE FOR KERNEL = sigmoid DEGREE = 4 NU = 0.5, SCORE = 0.4412619791105847\n",
      "DONE FOR KERNEL = sigmoid DEGREE = 4 NU = 0.6, SCORE = 0.4302138706885894\n",
      "DONE FOR KERNEL = sigmoid DEGREE = 4 NU = 0.7, SCORE = 0.3934426229508196\n",
      "DONE FOR KERNEL = sigmoid DEGREE = 5 NU = 0.3, SCORE = 0.45557122708039494\n",
      "DONE FOR KERNEL = sigmoid DEGREE = 5 NU = 0.4, SCORE = 0.44725818735719725\n",
      "DONE FOR KERNEL = sigmoid DEGREE = 5 NU = 0.5, SCORE = 0.4412619791105847\n",
      "DONE FOR KERNEL = sigmoid DEGREE = 5 NU = 0.6, SCORE = 0.4302138706885894\n",
      "DONE FOR KERNEL = sigmoid DEGREE = 5 NU = 0.7, SCORE = 0.3934426229508196\n",
      "DONE FOR KERNEL = sigmoid DEGREE = 6 NU = 0.3, SCORE = 0.45557122708039494\n",
      "DONE FOR KERNEL = sigmoid DEGREE = 6 NU = 0.4, SCORE = 0.44725818735719725\n",
      "DONE FOR KERNEL = sigmoid DEGREE = 6 NU = 0.5, SCORE = 0.4412619791105847\n",
      "DONE FOR KERNEL = sigmoid DEGREE = 6 NU = 0.6, SCORE = 0.4302138706885894\n",
      "DONE FOR KERNEL = sigmoid DEGREE = 6 NU = 0.7, SCORE = 0.3934426229508196\n",
      "DONE FOR KERNEL = sigmoid DEGREE = 7 NU = 0.3, SCORE = 0.45557122708039494\n",
      "DONE FOR KERNEL = sigmoid DEGREE = 7 NU = 0.4, SCORE = 0.44725818735719725\n",
      "DONE FOR KERNEL = sigmoid DEGREE = 7 NU = 0.5, SCORE = 0.4412619791105847\n",
      "DONE FOR KERNEL = sigmoid DEGREE = 7 NU = 0.6, SCORE = 0.4302138706885894\n",
      "DONE FOR KERNEL = sigmoid DEGREE = 7 NU = 0.7, SCORE = 0.3934426229508196\n",
      "DONE FOR KERNEL = sigmoid DEGREE = 8 NU = 0.3, SCORE = 0.45557122708039494\n",
      "DONE FOR KERNEL = sigmoid DEGREE = 8 NU = 0.4, SCORE = 0.44725818735719725\n",
      "DONE FOR KERNEL = sigmoid DEGREE = 8 NU = 0.5, SCORE = 0.4412619791105847\n",
      "DONE FOR KERNEL = sigmoid DEGREE = 8 NU = 0.6, SCORE = 0.4302138706885894\n",
      "DONE FOR KERNEL = sigmoid DEGREE = 8 NU = 0.7, SCORE = 0.3934426229508196\n",
      "DONE FOR KERNEL = sigmoid DEGREE = 9 NU = 0.3, SCORE = 0.45557122708039494\n",
      "DONE FOR KERNEL = sigmoid DEGREE = 9 NU = 0.4, SCORE = 0.44725818735719725\n",
      "DONE FOR KERNEL = sigmoid DEGREE = 9 NU = 0.5, SCORE = 0.4412619791105847\n",
      "DONE FOR KERNEL = sigmoid DEGREE = 9 NU = 0.6, SCORE = 0.4302138706885894\n",
      "DONE FOR KERNEL = sigmoid DEGREE = 9 NU = 0.7, SCORE = 0.3934426229508196\n"
     ]
    }
   ],
   "source": [
    "scores =[]\n",
    "preds = []\n",
    "for k in ['rbf', 'poly', 'linear', 'sigmoid']:\n",
    "    for degree in range(1, 10):\n",
    "        for nu in [0.3, 0.4, 0.5, 0.6, 0.7]:\n",
    "            y_pred = []\n",
    "            magic_forest = svm.OneClassSVM(kernel=k, degree=degree, gamma='scale', nu=nu)\n",
    "            for m in matrix_train:\n",
    "                y = magic_forest.fit_predict(m)\n",
    "                for i in range(y.size):\n",
    "                    if y[i] == -1:\n",
    "                        y[i] = 0\n",
    "                y =list(y)\n",
    "                y_pred += y\n",
    "            score = f1_score(y_pred, all_targ)\n",
    "            scores.append(score)\n",
    "            preds.append(y_pred)\n",
    "            print('DONE FOR KERNEL = {} DEGREE = {} NU = {}, SCORE = {}'.format(k, degree, nu, score))"
   ]
  },
  {
   "cell_type": "code",
   "execution_count": 30,
   "metadata": {},
   "outputs": [
    {
     "name": "stdout",
     "output_type": "stream",
     "text": [
      "0.4644619038918327\n"
     ]
    }
   ],
   "source": [
    "y_pred = preds[np.argmax(scores)]\n",
    "print(np.max(scores))\n",
    "u,c = np.unique(y_pred, return_counts=True)"
   ]
  },
  {
   "cell_type": "code",
   "execution_count": 31,
   "metadata": {},
   "outputs": [
    {
     "data": {
      "text/plain": [
       "(array([4105, 7585]), array([0, 1]))"
      ]
     },
     "execution_count": 31,
     "metadata": {},
     "output_type": "execute_result"
    }
   ],
   "source": [
    "c, u"
   ]
  },
  {
   "cell_type": "code",
   "execution_count": null,
   "metadata": {},
   "outputs": [],
   "source": []
  }
 ],
 "metadata": {
  "kernelspec": {
   "display_name": "Python 3",
   "language": "python",
   "name": "python3"
  },
  "language_info": {
   "codemirror_mode": {
    "name": "ipython",
    "version": 3
   },
   "file_extension": ".py",
   "mimetype": "text/x-python",
   "name": "python",
   "nbconvert_exporter": "python",
   "pygments_lexer": "ipython3",
   "version": "3.6.8"
  }
 },
 "nbformat": 4,
 "nbformat_minor": 2
}
